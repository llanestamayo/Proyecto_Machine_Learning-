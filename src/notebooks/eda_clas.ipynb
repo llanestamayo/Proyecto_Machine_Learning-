{
 "cells": [
  {
   "cell_type": "markdown",
   "metadata": {},
   "source": [
    "### Importamos nuestra librerías"
   ]
  },
  {
   "cell_type": "code",
   "execution_count": 5,
   "metadata": {},
   "outputs": [],
   "source": [
    "import pandas as pd\n",
    "import seaborn as sns\n",
    "import matplotlib.pyplot as plt\n",
    "import seaborn as sns\n",
    "import numpy as np\n",
    "from scipy import stats\n",
    "from sklearn import metrics"
   ]
  },
  {
   "cell_type": "code",
   "execution_count": 6,
   "metadata": {},
   "outputs": [],
   "source": [
    "from imblearn.over_sampling import RandomOverSampler "
   ]
  },
  {
   "cell_type": "code",
   "execution_count": 7,
   "metadata": {},
   "outputs": [],
   "source": [
    "import sys\n",
    "sys.path.insert(1, '..')\n",
    "from utils import functions as func"
   ]
  },
  {
   "cell_type": "code",
   "execution_count": null,
   "metadata": {},
   "outputs": [],
   "source": [
    "data_player = func.load_dataset(path = \"data\\processed\\Datos_Clasif.csv\",\n",
    "                                separador=';',\n",
    "                                codif='utf-8')"
   ]
  },
  {
   "cell_type": "code",
   "execution_count": null,
   "metadata": {},
   "outputs": [],
   "source": [
    "dict_goles = {}\n",
    "for pos, value in enumerate(data_player['goals']):\n",
    "    if value <= 5:\n",
    "        dict_goles[value] = 0\n",
    "    elif 5 <= value <= 10:\n",
    "        dict_goles[value] = 1\n",
    "    elif 10 < value <= 15:\n",
    "        dict_goles[value] = 2\n",
    "    elif 15 < value <= 20:\n",
    "        dict_goles[value] = 3            \n",
    "    elif 20 < value <= 25:\n",
    "        dict_goles[value] = 4\n",
    "    elif 25 < value <= 30:\n",
    "        dict_goles[value] = 5\n",
    "    else:\n",
    "        dict_goles[value] = 6"
   ]
  },
  {
   "cell_type": "code",
   "execution_count": null,
   "metadata": {},
   "outputs": [],
   "source": [
    "data_player = func.cambia_valores(data = data_player, nombre_columna = 'goals', dicc_valores= dict_goles)"
   ]
  },
  {
   "cell_type": "code",
   "execution_count": null,
   "metadata": {},
   "outputs": [
    {
     "data": {
      "text/plain": [
       "array([0., 1., 2., 3., 6., 4., 5.])"
      ]
     },
     "execution_count": 177,
     "metadata": {},
     "output_type": "execute_result"
    }
   ],
   "source": [
    "data_player['goals'].unique()"
   ]
  },
  {
   "cell_type": "code",
   "execution_count": null,
   "metadata": {},
   "outputs": [],
   "source": [
    "data_player.drop('Unnamed: 0', axis = 'columns', inplace= True)"
   ]
  },
  {
   "cell_type": "code",
   "execution_count": null,
   "metadata": {},
   "outputs": [
    {
     "data": {
      "text/html": [
       "<div>\n",
       "<style scoped>\n",
       "    .dataframe tbody tr th:only-of-type {\n",
       "        vertical-align: middle;\n",
       "    }\n",
       "\n",
       "    .dataframe tbody tr th {\n",
       "        vertical-align: top;\n",
       "    }\n",
       "\n",
       "    .dataframe thead th {\n",
       "        text-align: right;\n",
       "    }\n",
       "</style>\n",
       "<table border=\"1\" class=\"dataframe\">\n",
       "  <thead>\n",
       "    <tr style=\"text-align: right;\">\n",
       "      <th></th>\n",
       "      <th>position</th>\n",
       "      <th>squad</th>\n",
       "      <th>minutes</th>\n",
       "      <th>xg_per90</th>\n",
       "      <th>shoots_on_t_x_game</th>\n",
       "      <th>passes_x_game</th>\n",
       "      <th>dribbles_x_game</th>\n",
       "      <th>goals</th>\n",
       "    </tr>\n",
       "  </thead>\n",
       "  <tbody>\n",
       "    <tr>\n",
       "      <th>0</th>\n",
       "      <td>8</td>\n",
       "      <td>4</td>\n",
       "      <td>1037.0</td>\n",
       "      <td>0.08</td>\n",
       "      <td>0.173913</td>\n",
       "      <td>1.217391</td>\n",
       "      <td>1.043478</td>\n",
       "      <td>0.0</td>\n",
       "    </tr>\n",
       "    <tr>\n",
       "      <th>1</th>\n",
       "      <td>3</td>\n",
       "      <td>8</td>\n",
       "      <td>2320.0</td>\n",
       "      <td>0.04</td>\n",
       "      <td>0.074074</td>\n",
       "      <td>3.037037</td>\n",
       "      <td>0.370370</td>\n",
       "      <td>0.0</td>\n",
       "    </tr>\n",
       "    <tr>\n",
       "      <th>2</th>\n",
       "      <td>3</td>\n",
       "      <td>4</td>\n",
       "      <td>2138.0</td>\n",
       "      <td>0.02</td>\n",
       "      <td>0.041667</td>\n",
       "      <td>1.708333</td>\n",
       "      <td>0.458333</td>\n",
       "      <td>0.0</td>\n",
       "    </tr>\n",
       "    <tr>\n",
       "      <th>3</th>\n",
       "      <td>3</td>\n",
       "      <td>8</td>\n",
       "      <td>2189.0</td>\n",
       "      <td>0.05</td>\n",
       "      <td>0.240000</td>\n",
       "      <td>4.720000</td>\n",
       "      <td>0.240000</td>\n",
       "      <td>0.0</td>\n",
       "    </tr>\n",
       "    <tr>\n",
       "      <th>4</th>\n",
       "      <td>6</td>\n",
       "      <td>4</td>\n",
       "      <td>2438.0</td>\n",
       "      <td>0.11</td>\n",
       "      <td>0.266667</td>\n",
       "      <td>3.066667</td>\n",
       "      <td>0.566667</td>\n",
       "      <td>0.0</td>\n",
       "    </tr>\n",
       "    <tr>\n",
       "      <th>...</th>\n",
       "      <td>...</td>\n",
       "      <td>...</td>\n",
       "      <td>...</td>\n",
       "      <td>...</td>\n",
       "      <td>...</td>\n",
       "      <td>...</td>\n",
       "      <td>...</td>\n",
       "      <td>...</td>\n",
       "    </tr>\n",
       "    <tr>\n",
       "      <th>6442</th>\n",
       "      <td>8</td>\n",
       "      <td>4</td>\n",
       "      <td>289.0</td>\n",
       "      <td>0.49</td>\n",
       "      <td>0.444444</td>\n",
       "      <td>0.333333</td>\n",
       "      <td>1.000000</td>\n",
       "      <td>0.0</td>\n",
       "    </tr>\n",
       "    <tr>\n",
       "      <th>6443</th>\n",
       "      <td>3</td>\n",
       "      <td>4</td>\n",
       "      <td>2705.0</td>\n",
       "      <td>0.09</td>\n",
       "      <td>0.242424</td>\n",
       "      <td>3.606061</td>\n",
       "      <td>0.212121</td>\n",
       "      <td>0.0</td>\n",
       "    </tr>\n",
       "    <tr>\n",
       "      <th>6444</th>\n",
       "      <td>8</td>\n",
       "      <td>4</td>\n",
       "      <td>2605.0</td>\n",
       "      <td>0.12</td>\n",
       "      <td>0.108108</td>\n",
       "      <td>1.081081</td>\n",
       "      <td>4.216216</td>\n",
       "      <td>0.0</td>\n",
       "    </tr>\n",
       "    <tr>\n",
       "      <th>6445</th>\n",
       "      <td>3</td>\n",
       "      <td>4</td>\n",
       "      <td>163.0</td>\n",
       "      <td>0.00</td>\n",
       "      <td>0.000000</td>\n",
       "      <td>3.500000</td>\n",
       "      <td>0.500000</td>\n",
       "      <td>0.0</td>\n",
       "    </tr>\n",
       "    <tr>\n",
       "      <th>6446</th>\n",
       "      <td>3</td>\n",
       "      <td>4</td>\n",
       "      <td>652.0</td>\n",
       "      <td>0.05</td>\n",
       "      <td>0.000000</td>\n",
       "      <td>0.625000</td>\n",
       "      <td>1.125000</td>\n",
       "      <td>0.0</td>\n",
       "    </tr>\n",
       "  </tbody>\n",
       "</table>\n",
       "<p>6447 rows × 8 columns</p>\n",
       "</div>"
      ],
      "text/plain": [
       "      position  squad  minutes  xg_per90  shoots_on_t_x_game  passes_x_game  \\\n",
       "0            8      4   1037.0      0.08            0.173913       1.217391   \n",
       "1            3      8   2320.0      0.04            0.074074       3.037037   \n",
       "2            3      4   2138.0      0.02            0.041667       1.708333   \n",
       "3            3      8   2189.0      0.05            0.240000       4.720000   \n",
       "4            6      4   2438.0      0.11            0.266667       3.066667   \n",
       "...        ...    ...      ...       ...                 ...            ...   \n",
       "6442         8      4    289.0      0.49            0.444444       0.333333   \n",
       "6443         3      4   2705.0      0.09            0.242424       3.606061   \n",
       "6444         8      4   2605.0      0.12            0.108108       1.081081   \n",
       "6445         3      4    163.0      0.00            0.000000       3.500000   \n",
       "6446         3      4    652.0      0.05            0.000000       0.625000   \n",
       "\n",
       "      dribbles_x_game  goals  \n",
       "0            1.043478    0.0  \n",
       "1            0.370370    0.0  \n",
       "2            0.458333    0.0  \n",
       "3            0.240000    0.0  \n",
       "4            0.566667    0.0  \n",
       "...               ...    ...  \n",
       "6442         1.000000    0.0  \n",
       "6443         0.212121    0.0  \n",
       "6444         4.216216    0.0  \n",
       "6445         0.500000    0.0  \n",
       "6446         1.125000    0.0  \n",
       "\n",
       "[6447 rows x 8 columns]"
      ]
     },
     "execution_count": 179,
     "metadata": {},
     "output_type": "execute_result"
    }
   ],
   "source": [
    "data_player"
   ]
  },
  {
   "cell_type": "code",
   "execution_count": null,
   "metadata": {},
   "outputs": [],
   "source": [
    "X_train, X_test, y_train, y_test = func.split_train_set(data = data_player, test_prop = 0.2, rand_st = 5, target_name = 'goals')"
   ]
  },
  {
   "cell_type": "code",
   "execution_count": null,
   "metadata": {},
   "outputs": [
    {
     "data": {
      "text/plain": [
       "array([0., 1., 2., 3., 4., 5., 6.])"
      ]
     },
     "execution_count": 181,
     "metadata": {},
     "output_type": "execute_result"
    }
   ],
   "source": [
    "np.unique(y_test)"
   ]
  },
  {
   "cell_type": "code",
   "execution_count": null,
   "metadata": {},
   "outputs": [],
   "source": [
    "ros = RandomOverSampler(random_state=42)\n",
    "X_train, y_train = ros.fit_resample(X_train, y_train)"
   ]
  },
  {
   "cell_type": "code",
   "execution_count": null,
   "metadata": {},
   "outputs": [],
   "source": [
    "func.save_train_sets(path = \"D:\\Jesus\\BootCampThe_Bridge\\Clases\\Alumno\\Entregables\\Proyecto_ML\\src\\data\\processed/train_corr_clas.npz\", \n",
    "                               tupla_datos = (X_train, X_test, y_train, y_test))  "
   ]
  }
 ],
 "metadata": {
  "interpreter": {
   "hash": "c478ef2f9ae76f3945316882bea88700f8d49acff3a4ac503707041484fae990"
  },
  "kernelspec": {
   "display_name": "Python 3.7.4 64-bit (system)",
   "language": "python",
   "name": "python3"
  },
  "language_info": {
   "codemirror_mode": {
    "name": "ipython",
    "version": 3
   },
   "file_extension": ".py",
   "mimetype": "text/x-python",
   "name": "python",
   "nbconvert_exporter": "python",
   "pygments_lexer": "ipython3",
   "version": "3.7.4"
  },
  "orig_nbformat": 4
 },
 "nbformat": 4,
 "nbformat_minor": 2
}
