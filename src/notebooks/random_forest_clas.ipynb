{
 "cells": [
  {
   "cell_type": "code",
   "execution_count": 1,
   "metadata": {},
   "outputs": [],
   "source": [
    "import pandas as pd\n",
    "import seaborn as sns\n",
    "import matplotlib.pyplot as plt\n",
    "import seaborn as sns\n",
    "import numpy as np"
   ]
  },
  {
   "cell_type": "code",
   "execution_count": 2,
   "metadata": {},
   "outputs": [],
   "source": [
    "from sklearn.model_selection import GridSearchCV\n",
    "from sklearn import metrics\n",
    "from sklearn.linear_model import LinearRegression\n",
    "from sklearn.preprocessing import PolynomialFeatures\n",
    "from sklearn.preprocessing import StandardScaler\n",
    "from sklearn.preprocessing import MinMaxScaler\n",
    "from sklearn.ensemble import RandomForestClassifier\n",
    "from sklearn.metrics import confusion_matrix\n",
    "from sklearn.metrics import accuracy_score"
   ]
  },
  {
   "cell_type": "code",
   "execution_count": 3,
   "metadata": {},
   "outputs": [],
   "source": [
    "import sys\n",
    "sys.path.insert(1, '..')\n",
    "from utils import functions as func"
   ]
  },
  {
   "cell_type": "code",
   "execution_count": 4,
   "metadata": {},
   "outputs": [],
   "source": [
    "X_train, X_test, y_train, y_test = func.load_train_sets(path = \"data\\processed/train_set.npz\")\n",
    "X_train_corr, X_test_corr, y_train_corr, y_test_corr = func.load_train_sets(path = \"data\\processed/train_set_corr.npz\")\n",
    "X_train_norm, X_test_norm, y_train_norm, y_test_norm = func.load_train_sets(path = \"data\\processed/train_set_norm.npz\")\n",
    "X_norm_corr, X_norm_corr, y_norm_corr, y_norm_corr = func.load_train_sets(path = \"data\\processed/train_norm_corr.npz\")"
   ]
  },
  {
   "cell_type": "code",
   "execution_count": 5,
   "metadata": {},
   "outputs": [],
   "source": [
    "param_random_forest = {\"n_estimators\": [100, 200, 500], \n",
    "\n",
    "                     \n",
    "                     \"max_depth\": [5,10,15,20],\n",
    "                      \n",
    "                     \"max_features\": [4,5,7] \n",
    "                                                    \n",
    "                     }\n",
    "grid_rand_clas = GridSearchCV(estimator = RandomForestClassifier(),\n",
    "                  param_grid = param_random_forest,\n",
    "                  cv = 3)   "
   ]
  },
  {
   "cell_type": "code",
   "execution_count": 6,
   "metadata": {},
   "outputs": [
    {
     "data": {
      "text/plain": [
       "GridSearchCV(cv=3, estimator=RandomForestClassifier(),\n",
       "             param_grid={'max_depth': [5, 10, 15, 20],\n",
       "                         'max_features': [4, 5, 7],\n",
       "                         'n_estimators': [100, 200, 500]})"
      ]
     },
     "execution_count": 6,
     "metadata": {},
     "output_type": "execute_result"
    }
   ],
   "source": [
    "grid_rand_clas.fit(X_train,y_train) "
   ]
  },
  {
   "cell_type": "code",
   "execution_count": 7,
   "metadata": {},
   "outputs": [
    {
     "name": "stdout",
     "output_type": "stream",
     "text": [
      "RandomForestClassifier(max_depth=20, max_features=4)\n",
      "0.9952422221594192\n",
      "{'max_depth': 20, 'max_features': 4, 'n_estimators': 100}\n"
     ]
    }
   ],
   "source": [
    "print(grid_rand_clas.best_estimator_)\n",
    "print(grid_rand_clas.best_score_)\n",
    "print(grid_rand_clas.best_params_)"
   ]
  },
  {
   "cell_type": "code",
   "execution_count": 8,
   "metadata": {},
   "outputs": [],
   "source": [
    "pred_rand_clas = grid_rand_clas.best_estimator_.predict(X_test)"
   ]
  },
  {
   "cell_type": "code",
   "execution_count": 9,
   "metadata": {},
   "outputs": [
    {
     "data": {
      "text/plain": [
       "0.9364341085271318"
      ]
     },
     "execution_count": 9,
     "metadata": {},
     "output_type": "execute_result"
    }
   ],
   "source": [
    "accuracy_score(y_test, pred_rand_clas)"
   ]
  },
  {
   "cell_type": "code",
   "execution_count": 10,
   "metadata": {},
   "outputs": [],
   "source": [
    "c_matrix = confusion_matrix(y_test, pred_rand_clas)"
   ]
  },
  {
   "cell_type": "code",
   "execution_count": 11,
   "metadata": {},
   "outputs": [
    {
     "data": {
      "text/plain": [
       "array([[1122,   27,    1,    0,    0,    0,    0],\n",
       "       [  16,   66,   10,    2,    0,    0,    0],\n",
       "       [   1,   10,    9,    5,    1,    1,    0],\n",
       "       [   0,    2,    0,    6,    0,    2,    0],\n",
       "       [   0,    0,    0,    1,    3,    1,    0],\n",
       "       [   0,    0,    0,    0,    1,    1,    0],\n",
       "       [   0,    0,    0,    0,    0,    1,    1]], dtype=int64)"
      ]
     },
     "execution_count": 11,
     "metadata": {},
     "output_type": "execute_result"
    }
   ],
   "source": [
    "c_matrix"
   ]
  },
  {
   "cell_type": "code",
   "execution_count": 12,
   "metadata": {},
   "outputs": [
    {
     "data": {
      "image/png": "[encoded data removed]",
      "text/plain": [
       "<Figure size 1080x1080 with 2 Axes>"
      ]
     },
     "metadata": {
      "needs_background": "light"
     },
     "output_type": "display_data"
    }
   ],
   "source": [
    "plt.figure(figsize=(15,15))\n",
    "sns.heatmap(c_matrix, annot=True, fmt='d');\n",
    "plt.savefig(\"D:\\Jesus\\BootCampThe_Bridge\\Clases\\Alumno\\Entregables\\Proyecto_ML\\src\\data\\images\\conf_matrix.jpg\")"
   ]
  }
 ],
 "metadata": {
  "interpreter": {
   "hash": "c478ef2f9ae76f3945316882bea88700f8d49acff3a4ac503707041484fae990"
  },
  "kernelspec": {
   "display_name": "Python 3.7.4 64-bit (system)",
   "language": "python",
   "name": "python3"
  },
  "language_info": {
   "codemirror_mode": {
    "name": "ipython",
    "version": 3
   },
   "file_extension": ".py",
   "mimetype": "text/x-python",
   "name": "python",
   "nbconvert_exporter": "python",
   "pygments_lexer": "ipython3",
   "version": "3.7.4"
  },
  "orig_nbformat": 4
 },
 "nbformat": 4,
 "nbformat_minor": 2
}
